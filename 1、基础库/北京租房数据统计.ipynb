{
 "cells": [
  {
   "cell_type": "code",
   "execution_count": 1,
   "metadata": {},
   "outputs": [],
   "source": [
    "import numpy as np\n",
    "import pandas as pd\n",
    "import matplotlib.pyplot as plt\n",
    "import seaborn as sns"
   ]
  },
  {
   "cell_type": "code",
   "execution_count": 2,
   "metadata": {
    "pycharm": {
     "name": "#%%\n"
    }
   },
   "outputs": [
    {
     "data": {
      "text/html": [
       "<div>\n",
       "<style scoped>\n",
       "    .dataframe tbody tr th:only-of-type {\n",
       "        vertical-align: middle;\n",
       "    }\n",
       "\n",
       "    .dataframe tbody tr th {\n",
       "        vertical-align: top;\n",
       "    }\n",
       "\n",
       "    .dataframe thead th {\n",
       "        text-align: right;\n",
       "    }\n",
       "</style>\n",
       "<table border=\"1\" class=\"dataframe\">\n",
       "  <thead>\n",
       "    <tr style=\"text-align: right;\">\n",
       "      <th></th>\n",
       "      <th>区域</th>\n",
       "      <th>小区名称</th>\n",
       "      <th>户型</th>\n",
       "      <th>面积(㎡)</th>\n",
       "      <th>价格(元/月)</th>\n",
       "    </tr>\n",
       "  </thead>\n",
       "  <tbody>\n",
       "    <tr>\n",
       "      <td>0</td>\n",
       "      <td>东城</td>\n",
       "      <td>万国城MOMA</td>\n",
       "      <td>1室0厅</td>\n",
       "      <td>59.11平米</td>\n",
       "      <td>10000</td>\n",
       "    </tr>\n",
       "    <tr>\n",
       "      <td>1</td>\n",
       "      <td>东城</td>\n",
       "      <td>北官厅胡同2号院</td>\n",
       "      <td>3室0厅</td>\n",
       "      <td>56.92平米</td>\n",
       "      <td>6000</td>\n",
       "    </tr>\n",
       "    <tr>\n",
       "      <td>2</td>\n",
       "      <td>东城</td>\n",
       "      <td>和平里三区</td>\n",
       "      <td>1室1厅</td>\n",
       "      <td>40.57平米</td>\n",
       "      <td>6900</td>\n",
       "    </tr>\n",
       "    <tr>\n",
       "      <td>3</td>\n",
       "      <td>东城</td>\n",
       "      <td>菊儿胡同</td>\n",
       "      <td>2室1厅</td>\n",
       "      <td>57.09平米</td>\n",
       "      <td>8000</td>\n",
       "    </tr>\n",
       "    <tr>\n",
       "      <td>4</td>\n",
       "      <td>东城</td>\n",
       "      <td>交道口北二条35号院</td>\n",
       "      <td>1室1厅</td>\n",
       "      <td>42.67平米</td>\n",
       "      <td>5500</td>\n",
       "    </tr>\n",
       "    <tr>\n",
       "      <td>...</td>\n",
       "      <td>...</td>\n",
       "      <td>...</td>\n",
       "      <td>...</td>\n",
       "      <td>...</td>\n",
       "      <td>...</td>\n",
       "    </tr>\n",
       "    <tr>\n",
       "      <td>8218</td>\n",
       "      <td>顺义</td>\n",
       "      <td>怡馨家园</td>\n",
       "      <td>3室1厅</td>\n",
       "      <td>114.03平米</td>\n",
       "      <td>5500</td>\n",
       "    </tr>\n",
       "    <tr>\n",
       "      <td>8219</td>\n",
       "      <td>顺义</td>\n",
       "      <td>旭辉26街区</td>\n",
       "      <td>4房间2卫</td>\n",
       "      <td>59平米</td>\n",
       "      <td>5000</td>\n",
       "    </tr>\n",
       "    <tr>\n",
       "      <td>8220</td>\n",
       "      <td>顺义</td>\n",
       "      <td>前进花园玉兰苑</td>\n",
       "      <td>3室1厅</td>\n",
       "      <td>92.41平米</td>\n",
       "      <td>5800</td>\n",
       "    </tr>\n",
       "    <tr>\n",
       "      <td>8221</td>\n",
       "      <td>顺义</td>\n",
       "      <td>双裕小区</td>\n",
       "      <td>2室1厅</td>\n",
       "      <td>71.81平米</td>\n",
       "      <td>4200</td>\n",
       "    </tr>\n",
       "    <tr>\n",
       "      <td>8222</td>\n",
       "      <td>顺义</td>\n",
       "      <td>樱花园二区</td>\n",
       "      <td>1室1厅</td>\n",
       "      <td>35.43平米</td>\n",
       "      <td>2700</td>\n",
       "    </tr>\n",
       "  </tbody>\n",
       "</table>\n",
       "<p>8223 rows × 5 columns</p>\n",
       "</div>"
      ],
      "text/plain": [
       "      区域        小区名称     户型     面积(㎡)  价格(元/月)\n",
       "0     东城     万国城MOMA   1室0厅   59.11平米    10000\n",
       "1     东城    北官厅胡同2号院   3室0厅   56.92平米     6000\n",
       "2     东城       和平里三区   1室1厅   40.57平米     6900\n",
       "3     东城        菊儿胡同   2室1厅   57.09平米     8000\n",
       "4     东城  交道口北二条35号院   1室1厅   42.67平米     5500\n",
       "...   ..         ...    ...       ...      ...\n",
       "8218  顺义        怡馨家园   3室1厅  114.03平米     5500\n",
       "8219  顺义      旭辉26街区  4房间2卫      59平米     5000\n",
       "8220  顺义     前进花园玉兰苑   3室1厅   92.41平米     5800\n",
       "8221  顺义        双裕小区   2室1厅   71.81平米     4200\n",
       "8222  顺义       樱花园二区   1室1厅   35.43平米     2700\n",
       "\n",
       "[8223 rows x 5 columns]"
      ]
     },
     "execution_count": 2,
     "metadata": {},
     "output_type": "execute_result"
    }
   ],
   "source": [
    "house = pd.read_csv('./data/链家北京租房数据.csv')\n",
    "house"
   ]
  },
  {
   "cell_type": "code",
   "execution_count": 3,
   "metadata": {
    "pycharm": {
     "name": "#%%\n"
    }
   },
   "outputs": [
    {
     "name": "stdout",
     "output_type": "stream",
     "text": [
      "<class 'pandas.core.frame.DataFrame'>\n",
      "RangeIndex: 8223 entries, 0 to 8222\n",
      "Data columns (total 5 columns):\n",
      "区域         8223 non-null object\n",
      "小区名称       8223 non-null object\n",
      "户型         8223 non-null object\n",
      "面积(㎡)      8223 non-null object\n",
      "价格(元/月)    8223 non-null int64\n",
      "dtypes: int64(1), object(4)\n",
      "memory usage: 321.3+ KB\n"
     ]
    }
   ],
   "source": [
    "house.info()"
   ]
  },
  {
   "cell_type": "code",
   "execution_count": 4,
   "metadata": {
    "pycharm": {
     "name": "#%%\n"
    },
    "scrolled": true
   },
   "outputs": [
    {
     "data": {
      "text/html": [
       "<div>\n",
       "<style scoped>\n",
       "    .dataframe tbody tr th:only-of-type {\n",
       "        vertical-align: middle;\n",
       "    }\n",
       "\n",
       "    .dataframe tbody tr th {\n",
       "        vertical-align: top;\n",
       "    }\n",
       "\n",
       "    .dataframe thead th {\n",
       "        text-align: right;\n",
       "    }\n",
       "</style>\n",
       "<table border=\"1\" class=\"dataframe\">\n",
       "  <thead>\n",
       "    <tr style=\"text-align: right;\">\n",
       "      <th></th>\n",
       "      <th>区域</th>\n",
       "      <th>小区名称</th>\n",
       "      <th>户型</th>\n",
       "      <th>面积(㎡)</th>\n",
       "      <th>价格(元/月)</th>\n",
       "    </tr>\n",
       "  </thead>\n",
       "  <tbody>\n",
       "    <tr>\n",
       "      <td>0</td>\n",
       "      <td>东城</td>\n",
       "      <td>万国城MOMA</td>\n",
       "      <td>1室0厅</td>\n",
       "      <td>59.11平米</td>\n",
       "      <td>10000</td>\n",
       "    </tr>\n",
       "    <tr>\n",
       "      <td>1</td>\n",
       "      <td>东城</td>\n",
       "      <td>北官厅胡同2号院</td>\n",
       "      <td>3室0厅</td>\n",
       "      <td>56.92平米</td>\n",
       "      <td>6000</td>\n",
       "    </tr>\n",
       "    <tr>\n",
       "      <td>2</td>\n",
       "      <td>东城</td>\n",
       "      <td>和平里三区</td>\n",
       "      <td>1室1厅</td>\n",
       "      <td>40.57平米</td>\n",
       "      <td>6900</td>\n",
       "    </tr>\n",
       "    <tr>\n",
       "      <td>3</td>\n",
       "      <td>东城</td>\n",
       "      <td>菊儿胡同</td>\n",
       "      <td>2室1厅</td>\n",
       "      <td>57.09平米</td>\n",
       "      <td>8000</td>\n",
       "    </tr>\n",
       "    <tr>\n",
       "      <td>4</td>\n",
       "      <td>东城</td>\n",
       "      <td>交道口北二条35号院</td>\n",
       "      <td>1室1厅</td>\n",
       "      <td>42.67平米</td>\n",
       "      <td>5500</td>\n",
       "    </tr>\n",
       "    <tr>\n",
       "      <td>...</td>\n",
       "      <td>...</td>\n",
       "      <td>...</td>\n",
       "      <td>...</td>\n",
       "      <td>...</td>\n",
       "      <td>...</td>\n",
       "    </tr>\n",
       "    <tr>\n",
       "      <td>8218</td>\n",
       "      <td>顺义</td>\n",
       "      <td>怡馨家园</td>\n",
       "      <td>3室1厅</td>\n",
       "      <td>114.03平米</td>\n",
       "      <td>5500</td>\n",
       "    </tr>\n",
       "    <tr>\n",
       "      <td>8219</td>\n",
       "      <td>顺义</td>\n",
       "      <td>旭辉26街区</td>\n",
       "      <td>4房间2卫</td>\n",
       "      <td>59平米</td>\n",
       "      <td>5000</td>\n",
       "    </tr>\n",
       "    <tr>\n",
       "      <td>8220</td>\n",
       "      <td>顺义</td>\n",
       "      <td>前进花园玉兰苑</td>\n",
       "      <td>3室1厅</td>\n",
       "      <td>92.41平米</td>\n",
       "      <td>5800</td>\n",
       "    </tr>\n",
       "    <tr>\n",
       "      <td>8221</td>\n",
       "      <td>顺义</td>\n",
       "      <td>双裕小区</td>\n",
       "      <td>2室1厅</td>\n",
       "      <td>71.81平米</td>\n",
       "      <td>4200</td>\n",
       "    </tr>\n",
       "    <tr>\n",
       "      <td>8222</td>\n",
       "      <td>顺义</td>\n",
       "      <td>樱花园二区</td>\n",
       "      <td>1室1厅</td>\n",
       "      <td>35.43平米</td>\n",
       "      <td>2700</td>\n",
       "    </tr>\n",
       "  </tbody>\n",
       "</table>\n",
       "<p>5773 rows × 5 columns</p>\n",
       "</div>"
      ],
      "text/plain": [
       "      区域        小区名称     户型     面积(㎡)  价格(元/月)\n",
       "0     东城     万国城MOMA   1室0厅   59.11平米    10000\n",
       "1     东城    北官厅胡同2号院   3室0厅   56.92平米     6000\n",
       "2     东城       和平里三区   1室1厅   40.57平米     6900\n",
       "3     东城        菊儿胡同   2室1厅   57.09平米     8000\n",
       "4     东城  交道口北二条35号院   1室1厅   42.67平米     5500\n",
       "...   ..         ...    ...       ...      ...\n",
       "8218  顺义        怡馨家园   3室1厅  114.03平米     5500\n",
       "8219  顺义      旭辉26街区  4房间2卫      59平米     5000\n",
       "8220  顺义     前进花园玉兰苑   3室1厅   92.41平米     5800\n",
       "8221  顺义        双裕小区   2室1厅   71.81平米     4200\n",
       "8222  顺义       樱花园二区   1室1厅   35.43平米     2700\n",
       "\n",
       "[5773 rows x 5 columns]"
      ]
     },
     "execution_count": 4,
     "metadata": {},
     "output_type": "execute_result"
    }
   ],
   "source": [
    "house = house.drop_duplicates()\n",
    "house"
   ]
  },
  {
   "cell_type": "code",
   "execution_count": 5,
   "metadata": {
    "pycharm": {
     "name": "#%%\n"
    }
   },
   "outputs": [
    {
     "data": {
      "text/plain": [
       "Index(['区域', '小区名称', '户型', '面积(㎡)', '价格(元/月)'], dtype='object')"
      ]
     },
     "execution_count": 5,
     "metadata": {},
     "output_type": "execute_result"
    }
   ],
   "source": [
    "house.columns"
   ]
  },
  {
   "cell_type": "code",
   "execution_count": 6,
   "metadata": {
    "pycharm": {
     "name": "#%%\n"
    }
   },
   "outputs": [
    {
     "name": "stderr",
     "output_type": "stream",
     "text": [
      "C:\\Users\\17634\\Anaconda3\\lib\\site-packages\\pandas\\core\\indexing.py:494: SettingWithCopyWarning: \n",
      "A value is trying to be set on a copy of a slice from a DataFrame.\n",
      "Try using .loc[row_indexer,col_indexer] = value instead\n",
      "\n",
      "See the caveats in the documentation: http://pandas.pydata.org/pandas-docs/stable/user_guide/indexing.html#returning-a-view-versus-a-copy\n",
      "  self.obj[item] = s\n"
     ]
    },
    {
     "data": {
      "text/html": [
       "<div>\n",
       "<style scoped>\n",
       "    .dataframe tbody tr th:only-of-type {\n",
       "        vertical-align: middle;\n",
       "    }\n",
       "\n",
       "    .dataframe tbody tr th {\n",
       "        vertical-align: top;\n",
       "    }\n",
       "\n",
       "    .dataframe thead th {\n",
       "        text-align: right;\n",
       "    }\n",
       "</style>\n",
       "<table border=\"1\" class=\"dataframe\">\n",
       "  <thead>\n",
       "    <tr style=\"text-align: right;\">\n",
       "      <th></th>\n",
       "      <th>区域</th>\n",
       "      <th>小区名称</th>\n",
       "      <th>户型</th>\n",
       "      <th>面积(㎡)</th>\n",
       "      <th>价格(元/月)</th>\n",
       "    </tr>\n",
       "  </thead>\n",
       "  <tbody>\n",
       "    <tr>\n",
       "      <td>0</td>\n",
       "      <td>东城</td>\n",
       "      <td>万国城MOMA</td>\n",
       "      <td>1室0厅</td>\n",
       "      <td>59.11</td>\n",
       "      <td>10000</td>\n",
       "    </tr>\n",
       "    <tr>\n",
       "      <td>1</td>\n",
       "      <td>东城</td>\n",
       "      <td>北官厅胡同2号院</td>\n",
       "      <td>3室0厅</td>\n",
       "      <td>56.92</td>\n",
       "      <td>6000</td>\n",
       "    </tr>\n",
       "    <tr>\n",
       "      <td>2</td>\n",
       "      <td>东城</td>\n",
       "      <td>和平里三区</td>\n",
       "      <td>1室1厅</td>\n",
       "      <td>40.57</td>\n",
       "      <td>6900</td>\n",
       "    </tr>\n",
       "    <tr>\n",
       "      <td>3</td>\n",
       "      <td>东城</td>\n",
       "      <td>菊儿胡同</td>\n",
       "      <td>2室1厅</td>\n",
       "      <td>57.09</td>\n",
       "      <td>8000</td>\n",
       "    </tr>\n",
       "    <tr>\n",
       "      <td>4</td>\n",
       "      <td>东城</td>\n",
       "      <td>交道口北二条35号院</td>\n",
       "      <td>1室1厅</td>\n",
       "      <td>42.67</td>\n",
       "      <td>5500</td>\n",
       "    </tr>\n",
       "    <tr>\n",
       "      <td>...</td>\n",
       "      <td>...</td>\n",
       "      <td>...</td>\n",
       "      <td>...</td>\n",
       "      <td>...</td>\n",
       "      <td>...</td>\n",
       "    </tr>\n",
       "    <tr>\n",
       "      <td>8218</td>\n",
       "      <td>顺义</td>\n",
       "      <td>怡馨家园</td>\n",
       "      <td>3室1厅</td>\n",
       "      <td>114.03</td>\n",
       "      <td>5500</td>\n",
       "    </tr>\n",
       "    <tr>\n",
       "      <td>8219</td>\n",
       "      <td>顺义</td>\n",
       "      <td>旭辉26街区</td>\n",
       "      <td>4房间2卫</td>\n",
       "      <td>59.00</td>\n",
       "      <td>5000</td>\n",
       "    </tr>\n",
       "    <tr>\n",
       "      <td>8220</td>\n",
       "      <td>顺义</td>\n",
       "      <td>前进花园玉兰苑</td>\n",
       "      <td>3室1厅</td>\n",
       "      <td>92.41</td>\n",
       "      <td>5800</td>\n",
       "    </tr>\n",
       "    <tr>\n",
       "      <td>8221</td>\n",
       "      <td>顺义</td>\n",
       "      <td>双裕小区</td>\n",
       "      <td>2室1厅</td>\n",
       "      <td>71.81</td>\n",
       "      <td>4200</td>\n",
       "    </tr>\n",
       "    <tr>\n",
       "      <td>8222</td>\n",
       "      <td>顺义</td>\n",
       "      <td>樱花园二区</td>\n",
       "      <td>1室1厅</td>\n",
       "      <td>35.43</td>\n",
       "      <td>2700</td>\n",
       "    </tr>\n",
       "  </tbody>\n",
       "</table>\n",
       "<p>5773 rows × 5 columns</p>\n",
       "</div>"
      ],
      "text/plain": [
       "      区域        小区名称     户型   面积(㎡)  价格(元/月)\n",
       "0     东城     万国城MOMA   1室0厅   59.11    10000\n",
       "1     东城    北官厅胡同2号院   3室0厅   56.92     6000\n",
       "2     东城       和平里三区   1室1厅   40.57     6900\n",
       "3     东城        菊儿胡同   2室1厅   57.09     8000\n",
       "4     东城  交道口北二条35号院   1室1厅   42.67     5500\n",
       "...   ..         ...    ...     ...      ...\n",
       "8218  顺义        怡馨家园   3室1厅  114.03     5500\n",
       "8219  顺义      旭辉26街区  4房间2卫   59.00     5000\n",
       "8220  顺义     前进花园玉兰苑   3室1厅   92.41     5800\n",
       "8221  顺义        双裕小区   2室1厅   71.81     4200\n",
       "8222  顺义       樱花园二区   1室1厅   35.43     2700\n",
       "\n",
       "[5773 rows x 5 columns]"
      ]
     },
     "execution_count": 6,
     "metadata": {},
     "output_type": "execute_result"
    }
   ],
   "source": [
    "house.loc[:, '面积(㎡)'] = house['面积(㎡)'].str[:-2].astype(np.float64)\n",
    "house"
   ]
  },
  {
   "cell_type": "code",
   "execution_count": 7,
   "metadata": {
    "pycharm": {
     "name": "#%%\n"
    }
   },
   "outputs": [
    {
     "data": {
      "text/html": [
       "<div>\n",
       "<style scoped>\n",
       "    .dataframe tbody tr th:only-of-type {\n",
       "        vertical-align: middle;\n",
       "    }\n",
       "\n",
       "    .dataframe tbody tr th {\n",
       "        vertical-align: top;\n",
       "    }\n",
       "\n",
       "    .dataframe thead th {\n",
       "        text-align: right;\n",
       "    }\n",
       "</style>\n",
       "<table border=\"1\" class=\"dataframe\">\n",
       "  <thead>\n",
       "    <tr style=\"text-align: right;\">\n",
       "      <th></th>\n",
       "      <th>区域</th>\n",
       "      <th>小区名称</th>\n",
       "      <th>户型</th>\n",
       "      <th>面积(㎡)</th>\n",
       "      <th>价格(元/月)</th>\n",
       "    </tr>\n",
       "  </thead>\n",
       "  <tbody>\n",
       "    <tr>\n",
       "      <td>0</td>\n",
       "      <td>东城</td>\n",
       "      <td>万国城MOMA</td>\n",
       "      <td>1室0厅</td>\n",
       "      <td>59.11</td>\n",
       "      <td>10000</td>\n",
       "    </tr>\n",
       "    <tr>\n",
       "      <td>1</td>\n",
       "      <td>东城</td>\n",
       "      <td>北官厅胡同2号院</td>\n",
       "      <td>3室0厅</td>\n",
       "      <td>56.92</td>\n",
       "      <td>6000</td>\n",
       "    </tr>\n",
       "    <tr>\n",
       "      <td>2</td>\n",
       "      <td>东城</td>\n",
       "      <td>和平里三区</td>\n",
       "      <td>1室1厅</td>\n",
       "      <td>40.57</td>\n",
       "      <td>6900</td>\n",
       "    </tr>\n",
       "    <tr>\n",
       "      <td>3</td>\n",
       "      <td>东城</td>\n",
       "      <td>菊儿胡同</td>\n",
       "      <td>2室1厅</td>\n",
       "      <td>57.09</td>\n",
       "      <td>8000</td>\n",
       "    </tr>\n",
       "    <tr>\n",
       "      <td>4</td>\n",
       "      <td>东城</td>\n",
       "      <td>交道口北二条35号院</td>\n",
       "      <td>1室1厅</td>\n",
       "      <td>42.67</td>\n",
       "      <td>5500</td>\n",
       "    </tr>\n",
       "    <tr>\n",
       "      <td>...</td>\n",
       "      <td>...</td>\n",
       "      <td>...</td>\n",
       "      <td>...</td>\n",
       "      <td>...</td>\n",
       "      <td>...</td>\n",
       "    </tr>\n",
       "    <tr>\n",
       "      <td>8218</td>\n",
       "      <td>顺义</td>\n",
       "      <td>怡馨家园</td>\n",
       "      <td>3室1厅</td>\n",
       "      <td>114.03</td>\n",
       "      <td>5500</td>\n",
       "    </tr>\n",
       "    <tr>\n",
       "      <td>8219</td>\n",
       "      <td>顺义</td>\n",
       "      <td>旭辉26街区</td>\n",
       "      <td>4室2卫</td>\n",
       "      <td>59.00</td>\n",
       "      <td>5000</td>\n",
       "    </tr>\n",
       "    <tr>\n",
       "      <td>8220</td>\n",
       "      <td>顺义</td>\n",
       "      <td>前进花园玉兰苑</td>\n",
       "      <td>3室1厅</td>\n",
       "      <td>92.41</td>\n",
       "      <td>5800</td>\n",
       "    </tr>\n",
       "    <tr>\n",
       "      <td>8221</td>\n",
       "      <td>顺义</td>\n",
       "      <td>双裕小区</td>\n",
       "      <td>2室1厅</td>\n",
       "      <td>71.81</td>\n",
       "      <td>4200</td>\n",
       "    </tr>\n",
       "    <tr>\n",
       "      <td>8222</td>\n",
       "      <td>顺义</td>\n",
       "      <td>樱花园二区</td>\n",
       "      <td>1室1厅</td>\n",
       "      <td>35.43</td>\n",
       "      <td>2700</td>\n",
       "    </tr>\n",
       "  </tbody>\n",
       "</table>\n",
       "<p>5773 rows × 5 columns</p>\n",
       "</div>"
      ],
      "text/plain": [
       "      区域        小区名称    户型   面积(㎡)  价格(元/月)\n",
       "0     东城     万国城MOMA  1室0厅   59.11    10000\n",
       "1     东城    北官厅胡同2号院  3室0厅   56.92     6000\n",
       "2     东城       和平里三区  1室1厅   40.57     6900\n",
       "3     东城        菊儿胡同  2室1厅   57.09     8000\n",
       "4     东城  交道口北二条35号院  1室1厅   42.67     5500\n",
       "...   ..         ...   ...     ...      ...\n",
       "8218  顺义        怡馨家园  3室1厅  114.03     5500\n",
       "8219  顺义      旭辉26街区  4室2卫   59.00     5000\n",
       "8220  顺义     前进花园玉兰苑  3室1厅   92.41     5800\n",
       "8221  顺义        双裕小区  2室1厅   71.81     4200\n",
       "8222  顺义       樱花园二区  1室1厅   35.43     2700\n",
       "\n",
       "[5773 rows x 5 columns]"
      ]
     },
     "execution_count": 7,
     "metadata": {},
     "output_type": "execute_result"
    }
   ],
   "source": [
    "house.loc[:, '户型'] = house['户型'].str.replace('房间', '室')\n",
    "house"
   ]
  },
  {
   "cell_type": "code",
   "execution_count": 8,
   "metadata": {
    "pycharm": {
     "name": "#%%\n"
    }
   },
   "outputs": [
    {
     "data": {
      "text/plain": [
       "区域\n",
       "朝阳       1597\n",
       "海淀        605\n",
       "丰台        577\n",
       "通州        477\n",
       "西城        442\n",
       "大兴        362\n",
       "昌平        347\n",
       "顺义        297\n",
       "门头沟       285\n",
       "东城        282\n",
       "房山        180\n",
       "石景山       175\n",
       "亦庄开发区     147\n",
       "Name: 区域, dtype: int64"
      ]
     },
     "execution_count": 8,
     "metadata": {},
     "output_type": "execute_result"
    }
   ],
   "source": [
    "house.groupby('区域')['区域'].count().sort_values(ascending=False)"
   ]
  },
  {
   "cell_type": "code",
   "execution_count": 9,
   "metadata": {
    "pycharm": {
     "name": "#%%\n"
    }
   },
   "outputs": [
    {
     "data": {
      "text/plain": [
       "户型\n",
       "1室0厅     244\n",
       "1室1卫     126\n",
       "1室1厅     844\n",
       "2室1卫     120\n",
       "2室1厅    2249\n",
       "2室2厅     265\n",
       "3室1卫      92\n",
       "3室1厅     766\n",
       "3室2厅     489\n",
       "4室1厅      58\n",
       "4室2厅     191\n",
       "Name: 户型, dtype: int64"
      ]
     },
     "execution_count": 9,
     "metadata": {},
     "output_type": "execute_result"
    }
   ],
   "source": [
    "#户型数量大于50的元素筛选出来\n",
    "# house['户型'].value_counts()\n",
    "house_type = house.groupby('户型')['户型'].count()\n",
    "house_type = house_type[house_type > 50]\n",
    "house_type"
   ]
  },
  {
   "cell_type": "code",
   "execution_count": 10,
   "metadata": {
    "pycharm": {
     "name": "#%%\n"
    }
   },
   "outputs": [
    {
     "name": "stdout",
     "output_type": "stream",
     "text": [
      "0 244\n",
      "1 126\n",
      "2 844\n",
      "3 120\n",
      "4 2249\n",
      "5 265\n",
      "6 92\n",
      "7 766\n",
      "8 489\n",
      "9 58\n",
      "10 191\n"
     ]
    }
   ],
   "source": [
    "house_type.size\n",
    "for x, y in enumerate(house_type):\n",
    "    print(x, y)"
   ]
  },
  {
   "cell_type": "code",
   "execution_count": 18,
   "metadata": {
    "pycharm": {
     "name": "#%%\n"
    }
   },
   "outputs": [
    {
     "data": {
      "image/png": "[encoded data removed]",
      "text/plain": [
       "<Figure size 432x288 with 1 Axes>"
      ]
     },
     "metadata": {
      "needs_background": "light"
     },
     "output_type": "display_data"
    }
   ],
   "source": [
    "#画图\n",
    "plt.rcParams['font.sans-serif'] = ['SIMHEI']\n",
    "plt.barh(range(house_type.size), house_type, alpha=.8)\n",
    "plt.yticks(range(house_type.size), house_type.index)\n",
    "plt.xlim(0, 2500)\n",
    "plt.xlabel('数量')\n",
    "plt.ylabel('户型种类')\n",
    "plt.title('北京地区各户型房屋数量')\n",
    "for x, y in enumerate(house_type):\n",
    "    plt.text(y+1, x-0.15, y)"
   ]
  },
  {
   "cell_type": "code",
   "execution_count": 36,
   "metadata": {
    "pycharm": {
     "name": "#%%\n"
    }
   },
   "outputs": [
    {
     "name": "stdout",
     "output_type": "stream",
     "text": [
      "13\n"
     ]
    },
    {
     "data": {
      "text/plain": "       区域    数量\n0      东城   282\n1      丰台   577\n2   亦庄开发区   147\n3      大兴   362\n4      房山   180\n5      昌平   347\n6      朝阳  1597\n7      海淀   605\n8     石景山   175\n9      西城   442\n10     通州   477\n11    门头沟   285\n12     顺义   297",
      "text/html": "<div>\n<style scoped>\n    .dataframe tbody tr th:only-of-type {\n        vertical-align: middle;\n    }\n\n    .dataframe tbody tr th {\n        vertical-align: top;\n    }\n\n    .dataframe thead th {\n        text-align: right;\n    }\n</style>\n<table border=\"1\" class=\"dataframe\">\n  <thead>\n    <tr style=\"text-align: right;\">\n      <th></th>\n      <th>区域</th>\n      <th>数量</th>\n    </tr>\n  </thead>\n  <tbody>\n    <tr>\n      <td>0</td>\n      <td>东城</td>\n      <td>282</td>\n    </tr>\n    <tr>\n      <td>1</td>\n      <td>丰台</td>\n      <td>577</td>\n    </tr>\n    <tr>\n      <td>2</td>\n      <td>亦庄开发区</td>\n      <td>147</td>\n    </tr>\n    <tr>\n      <td>3</td>\n      <td>大兴</td>\n      <td>362</td>\n    </tr>\n    <tr>\n      <td>4</td>\n      <td>房山</td>\n      <td>180</td>\n    </tr>\n    <tr>\n      <td>5</td>\n      <td>昌平</td>\n      <td>347</td>\n    </tr>\n    <tr>\n      <td>6</td>\n      <td>朝阳</td>\n      <td>1597</td>\n    </tr>\n    <tr>\n      <td>7</td>\n      <td>海淀</td>\n      <td>605</td>\n    </tr>\n    <tr>\n      <td>8</td>\n      <td>石景山</td>\n      <td>175</td>\n    </tr>\n    <tr>\n      <td>9</td>\n      <td>西城</td>\n      <td>442</td>\n    </tr>\n    <tr>\n      <td>10</td>\n      <td>通州</td>\n      <td>477</td>\n    </tr>\n    <tr>\n      <td>11</td>\n      <td>门头沟</td>\n      <td>285</td>\n    </tr>\n    <tr>\n      <td>12</td>\n      <td>顺义</td>\n      <td>297</td>\n    </tr>\n  </tbody>\n</table>\n</div>"
     },
     "execution_count": 36,
     "metadata": {},
     "output_type": "execute_result"
    }
   ],
   "source": [
    "# 平均租金分析\n",
    "print(house['区域'].nunique())\n",
    "area = house.groupby('区域', sort=False)['区域'].count()\n",
    "df_all = pd.DataFrame()\n",
    "df_all['区域'] = area.index\n",
    "df_all['数量'] = area.values\n",
    "df_all"
   ]
  },
  {
   "cell_type": "code",
   "execution_count": 37,
   "outputs": [
    {
     "data": {
      "text/plain": "       区域    数量     房租总金额     总面积(㎡)\n0      东城   282   3945550   27353.99\n1      丰台   577   4404893   50922.79\n2   亦庄开发区   147   1318400   15995.53\n3      大兴   362   2286950   35884.15\n4      房山   180    726750   15275.41\n5      昌平   347   2521515   35972.92\n6      朝阳  1597  20281396  166921.72\n7      海淀   605   7279350   57210.39\n8     石景山   175   1156500   13956.67\n9      西城   442   5636975   37141.64\n10     通州   477   2719600   46625.23\n11    门头沟   285   1048300   20258.20\n12     顺义   297   2190900   33668.97",
      "text/html": "<div>\n<style scoped>\n    .dataframe tbody tr th:only-of-type {\n        vertical-align: middle;\n    }\n\n    .dataframe tbody tr th {\n        vertical-align: top;\n    }\n\n    .dataframe thead th {\n        text-align: right;\n    }\n</style>\n<table border=\"1\" class=\"dataframe\">\n  <thead>\n    <tr style=\"text-align: right;\">\n      <th></th>\n      <th>区域</th>\n      <th>数量</th>\n      <th>房租总金额</th>\n      <th>总面积(㎡)</th>\n    </tr>\n  </thead>\n  <tbody>\n    <tr>\n      <td>0</td>\n      <td>东城</td>\n      <td>282</td>\n      <td>3945550</td>\n      <td>27353.99</td>\n    </tr>\n    <tr>\n      <td>1</td>\n      <td>丰台</td>\n      <td>577</td>\n      <td>4404893</td>\n      <td>50922.79</td>\n    </tr>\n    <tr>\n      <td>2</td>\n      <td>亦庄开发区</td>\n      <td>147</td>\n      <td>1318400</td>\n      <td>15995.53</td>\n    </tr>\n    <tr>\n      <td>3</td>\n      <td>大兴</td>\n      <td>362</td>\n      <td>2286950</td>\n      <td>35884.15</td>\n    </tr>\n    <tr>\n      <td>4</td>\n      <td>房山</td>\n      <td>180</td>\n      <td>726750</td>\n      <td>15275.41</td>\n    </tr>\n    <tr>\n      <td>5</td>\n      <td>昌平</td>\n      <td>347</td>\n      <td>2521515</td>\n      <td>35972.92</td>\n    </tr>\n    <tr>\n      <td>6</td>\n      <td>朝阳</td>\n      <td>1597</td>\n      <td>20281396</td>\n      <td>166921.72</td>\n    </tr>\n    <tr>\n      <td>7</td>\n      <td>海淀</td>\n      <td>605</td>\n      <td>7279350</td>\n      <td>57210.39</td>\n    </tr>\n    <tr>\n      <td>8</td>\n      <td>石景山</td>\n      <td>175</td>\n      <td>1156500</td>\n      <td>13956.67</td>\n    </tr>\n    <tr>\n      <td>9</td>\n      <td>西城</td>\n      <td>442</td>\n      <td>5636975</td>\n      <td>37141.64</td>\n    </tr>\n    <tr>\n      <td>10</td>\n      <td>通州</td>\n      <td>477</td>\n      <td>2719600</td>\n      <td>46625.23</td>\n    </tr>\n    <tr>\n      <td>11</td>\n      <td>门头沟</td>\n      <td>285</td>\n      <td>1048300</td>\n      <td>20258.20</td>\n    </tr>\n    <tr>\n      <td>12</td>\n      <td>顺义</td>\n      <td>297</td>\n      <td>2190900</td>\n      <td>33668.97</td>\n    </tr>\n  </tbody>\n</table>\n</div>"
     },
     "execution_count": 37,
     "metadata": {},
     "output_type": "execute_result"
    }
   ],
   "source": [
    "grouped = house.groupby('区域', sort=False)\n",
    "sum_price = grouped['价格(元/月)'].sum()\n",
    "sum_area = grouped['面积(㎡)'].sum()\n",
    "df_all['房租总金额'] = sum_price.values\n",
    "df_all['总面积(㎡)'] = sum_area.values\n",
    "df_all"
   ],
   "metadata": {
    "collapsed": false,
    "pycharm": {
     "name": "#%%\n"
    }
   }
  },
  {
   "cell_type": "code",
   "execution_count": 38,
   "outputs": [
    {
     "data": {
      "text/plain": "       区域    数量     房租总金额     总面积(㎡)  每平米租金(元)\n0      东城   282   3945550   27353.99    144.24\n1      丰台   577   4404893   50922.79     86.50\n2   亦庄开发区   147   1318400   15995.53     82.42\n3      大兴   362   2286950   35884.15     63.73\n4      房山   180    726750   15275.41     47.58\n5      昌平   347   2521515   35972.92     70.09\n6      朝阳  1597  20281396  166921.72    121.50\n7      海淀   605   7279350   57210.39    127.24\n8     石景山   175   1156500   13956.67     82.86\n9      西城   442   5636975   37141.64    151.77\n10     通州   477   2719600   46625.23     58.33\n11    门头沟   285   1048300   20258.20     51.75\n12     顺义   297   2190900   33668.97     65.07",
      "text/html": "<div>\n<style scoped>\n    .dataframe tbody tr th:only-of-type {\n        vertical-align: middle;\n    }\n\n    .dataframe tbody tr th {\n        vertical-align: top;\n    }\n\n    .dataframe thead th {\n        text-align: right;\n    }\n</style>\n<table border=\"1\" class=\"dataframe\">\n  <thead>\n    <tr style=\"text-align: right;\">\n      <th></th>\n      <th>区域</th>\n      <th>数量</th>\n      <th>房租总金额</th>\n      <th>总面积(㎡)</th>\n      <th>每平米租金(元)</th>\n    </tr>\n  </thead>\n  <tbody>\n    <tr>\n      <td>0</td>\n      <td>东城</td>\n      <td>282</td>\n      <td>3945550</td>\n      <td>27353.99</td>\n      <td>144.24</td>\n    </tr>\n    <tr>\n      <td>1</td>\n      <td>丰台</td>\n      <td>577</td>\n      <td>4404893</td>\n      <td>50922.79</td>\n      <td>86.50</td>\n    </tr>\n    <tr>\n      <td>2</td>\n      <td>亦庄开发区</td>\n      <td>147</td>\n      <td>1318400</td>\n      <td>15995.53</td>\n      <td>82.42</td>\n    </tr>\n    <tr>\n      <td>3</td>\n      <td>大兴</td>\n      <td>362</td>\n      <td>2286950</td>\n      <td>35884.15</td>\n      <td>63.73</td>\n    </tr>\n    <tr>\n      <td>4</td>\n      <td>房山</td>\n      <td>180</td>\n      <td>726750</td>\n      <td>15275.41</td>\n      <td>47.58</td>\n    </tr>\n    <tr>\n      <td>5</td>\n      <td>昌平</td>\n      <td>347</td>\n      <td>2521515</td>\n      <td>35972.92</td>\n      <td>70.09</td>\n    </tr>\n    <tr>\n      <td>6</td>\n      <td>朝阳</td>\n      <td>1597</td>\n      <td>20281396</td>\n      <td>166921.72</td>\n      <td>121.50</td>\n    </tr>\n    <tr>\n      <td>7</td>\n      <td>海淀</td>\n      <td>605</td>\n      <td>7279350</td>\n      <td>57210.39</td>\n      <td>127.24</td>\n    </tr>\n    <tr>\n      <td>8</td>\n      <td>石景山</td>\n      <td>175</td>\n      <td>1156500</td>\n      <td>13956.67</td>\n      <td>82.86</td>\n    </tr>\n    <tr>\n      <td>9</td>\n      <td>西城</td>\n      <td>442</td>\n      <td>5636975</td>\n      <td>37141.64</td>\n      <td>151.77</td>\n    </tr>\n    <tr>\n      <td>10</td>\n      <td>通州</td>\n      <td>477</td>\n      <td>2719600</td>\n      <td>46625.23</td>\n      <td>58.33</td>\n    </tr>\n    <tr>\n      <td>11</td>\n      <td>门头沟</td>\n      <td>285</td>\n      <td>1048300</td>\n      <td>20258.20</td>\n      <td>51.75</td>\n    </tr>\n    <tr>\n      <td>12</td>\n      <td>顺义</td>\n      <td>297</td>\n      <td>2190900</td>\n      <td>33668.97</td>\n      <td>65.07</td>\n    </tr>\n  </tbody>\n</table>\n</div>"
     },
     "execution_count": 38,
     "metadata": {},
     "output_type": "execute_result"
    }
   ],
   "source": [
    "df_all['每平米租金(元)'] = round(df_all['房租总金额'] / df_all['总面积(㎡)'], 2)\n",
    "df_all"
   ],
   "metadata": {
    "collapsed": false,
    "pycharm": {
     "name": "#%%\n"
    }
   }
  },
  {
   "cell_type": "code",
   "execution_count": 39,
   "outputs": [],
   "source": [
    "# 房源和租金展示图"
   ],
   "metadata": {
    "collapsed": false,
    "pycharm": {
     "name": "#%%\n"
    }
   }
  },
  {
   "cell_type": "code",
   "execution_count": 41,
   "outputs": [
    {
     "data": {
      "text/plain": "([<matplotlib.axis.XTick at 0x27510d794c8>,\n  <matplotlib.axis.XTick at 0x27510d76b48>,\n  <matplotlib.axis.XTick at 0x275110d7508>,\n  <matplotlib.axis.XTick at 0x27510dc5a08>,\n  <matplotlib.axis.XTick at 0x27510dcb288>,\n  <matplotlib.axis.XTick at 0x27510dcb788>,\n  <matplotlib.axis.XTick at 0x27510dd0148>,\n  <matplotlib.axis.XTick at 0x27510dd0a88>,\n  <matplotlib.axis.XTick at 0x27510dd3408>,\n  <matplotlib.axis.XTick at 0x27510dd70c8>,\n  <matplotlib.axis.XTick at 0x27510dd79c8>,\n  <matplotlib.axis.XTick at 0x27510ddc4c8>,\n  <matplotlib.axis.XTick at 0x27510ddf088>],\n <a list of 13 Text xticklabel objects>)"
     },
     "execution_count": 41,
     "metadata": {},
     "output_type": "execute_result"
    },
    {
     "data": {
      "text/plain": "<Figure size 1000x800 with 2 Axes>",
      "image/png": "[encoded data removed]"
     },
     "metadata": {
      "needs_background": "light"
     },
     "output_type": "display_data"
    }
   ],
   "source": [
    "num = df_all['数量']\n",
    "price = df_all['每平米租金(元)']\n",
    "l = range(13)\n",
    "lx = df_all['区域']\n",
    "fig = plt.figure(figsize=(10, 8), dpi=100)\n",
    "ax1 = fig.add_subplot(111)\n",
    "ax1.plot(l, price, 'or-', label='价格')\n",
    "for i, (_x, _y) in enumerate(zip(l, price)):\n",
    "    plt.text(_x, _y, price[i])\n",
    "ax1.set_ylim([0, 200])\n",
    "ax1.set_ylabel(\"价格\")\n",
    "plt.legend(loc=\"upper left\")\n",
    "\n",
    "#显示条形图\n",
    "ax2 = ax1.twinx() #显示坐标轴ax2\n",
    "plt.bar(l, num, alpha=.3, color='green', label=\"数量\")\n",
    "ax2.set_ylabel(\"数量\")\n",
    "plt.legend(loc='upper right')\n",
    "plt.xticks(l, lx)"
   ],
   "metadata": {
    "collapsed": false,
    "pycharm": {
     "name": "#%%\n"
    }
   }
  },
  {
   "cell_type": "code",
   "execution_count": null,
   "outputs": [],
   "source": [],
   "metadata": {
    "collapsed": false,
    "pycharm": {
     "name": "#%%\n"
    }
   }
  }
 ],
 "metadata": {
  "kernelspec": {
   "display_name": "Python 3",
   "language": "python",
   "name": "python3"
  },
  "language_info": {
   "codemirror_mode": {
    "name": "ipython",
    "version": 3
   },
   "file_extension": ".py",
   "mimetype": "text/x-python",
   "name": "python",
   "nbconvert_exporter": "python",
   "pygments_lexer": "ipython3",
   "version": "3.7.4"
  }
 },
 "nbformat": 4,
 "nbformat_minor": 1
}