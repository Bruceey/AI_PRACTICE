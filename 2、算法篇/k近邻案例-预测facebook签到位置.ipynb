{
 "cells": [
  {
   "cell_type": "code",
   "execution_count": 1,
   "metadata": {
    "collapsed": true
   },
   "outputs": [],
   "source": [
    "#文件说明\n",
    "# train.csv, test.csv\n",
    "# row_id: 签到事件的id\n",
    "# x, y: 坐标\n",
    "# time: 时间戳\n",
    "# place_id: 签到的位置，标签"
   ]
  },
  {
   "cell_type": "code",
   "execution_count": 2,
   "outputs": [
    {
     "name": "stderr",
     "output_type": "stream",
     "text": [
      "C:\\Users\\17634\\Anaconda3\\lib\\importlib\\_bootstrap.py:219: RuntimeWarning: numpy.ufunc size changed, may indicate binary incompatibility. Expected 192 from C header, got 216 from PyObject\n",
      "  return f(*args, **kwds)\n",
      "C:\\Users\\17634\\Anaconda3\\lib\\importlib\\_bootstrap.py:219: RuntimeWarning: numpy.ufunc size changed, may indicate binary incompatibility. Expected 192 from C header, got 216 from PyObject\n",
      "  return f(*args, **kwds)\n",
      "C:\\Users\\17634\\Anaconda3\\lib\\importlib\\_bootstrap.py:219: RuntimeWarning: numpy.ufunc size changed, may indicate binary incompatibility. Expected 192 from C header, got 216 from PyObject\n",
      "  return f(*args, **kwds)\n",
      "C:\\Users\\17634\\Anaconda3\\lib\\importlib\\_bootstrap.py:219: RuntimeWarning: numpy.ufunc size changed, may indicate binary incompatibility. Expected 192 from C header, got 216 from PyObject\n",
      "  return f(*args, **kwds)\n"
     ]
    }
   ],
   "source": [
    "import pandas as pd\n",
    "from sklearn.model_selection import train_test_split, GridSearchCV\n",
    "from sklearn.preprocessing import StandardScaler\n",
    "from sklearn.neighbors import KNeighborsClassifier"
   ],
   "metadata": {
    "collapsed": false,
    "pycharm": {
     "name": "#%%\n"
    }
   }
  },
  {
   "cell_type": "code",
   "execution_count": 3,
   "outputs": [
    {
     "data": {
      "text/plain": "            row_id       x       y  accuracy    time    place_id\n0                0  0.7941  9.0809        54  470702  8523065625\n1                1  5.9567  4.7968        13  186555  1757726713\n2                2  8.3078  7.0407        74  322648  1137537235\n3                3  7.3665  2.5165        65  704587  6567393236\n4                4  4.0961  1.1307        31  472130  7440663949\n...            ...     ...     ...       ...     ...         ...\n29118016  29118016  6.5133  1.1435        67  399740  8671361106\n29118017  29118017  5.9186  4.4134        67  125480  9077887898\n29118018  29118018  2.9993  6.3680        67  737758  2838334300\n29118019  29118019  4.0637  8.0061        70  764975  1007355847\n29118020  29118020  7.4523  2.0871        17  102842  7028698129\n\n[29118021 rows x 6 columns]",
      "text/html": "<div>\n<style scoped>\n    .dataframe tbody tr th:only-of-type {\n        vertical-align: middle;\n    }\n\n    .dataframe tbody tr th {\n        vertical-align: top;\n    }\n\n    .dataframe thead th {\n        text-align: right;\n    }\n</style>\n<table border=\"1\" class=\"dataframe\">\n  <thead>\n    <tr style=\"text-align: right;\">\n      <th></th>\n      <th>row_id</th>\n      <th>x</th>\n      <th>y</th>\n      <th>accuracy</th>\n      <th>time</th>\n      <th>place_id</th>\n    </tr>\n  </thead>\n  <tbody>\n    <tr>\n      <td>0</td>\n      <td>0</td>\n      <td>0.7941</td>\n      <td>9.0809</td>\n      <td>54</td>\n      <td>470702</td>\n      <td>8523065625</td>\n    </tr>\n    <tr>\n      <td>1</td>\n      <td>1</td>\n      <td>5.9567</td>\n      <td>4.7968</td>\n      <td>13</td>\n      <td>186555</td>\n      <td>1757726713</td>\n    </tr>\n    <tr>\n      <td>2</td>\n      <td>2</td>\n      <td>8.3078</td>\n      <td>7.0407</td>\n      <td>74</td>\n      <td>322648</td>\n      <td>1137537235</td>\n    </tr>\n    <tr>\n      <td>3</td>\n      <td>3</td>\n      <td>7.3665</td>\n      <td>2.5165</td>\n      <td>65</td>\n      <td>704587</td>\n      <td>6567393236</td>\n    </tr>\n    <tr>\n      <td>4</td>\n      <td>4</td>\n      <td>4.0961</td>\n      <td>1.1307</td>\n      <td>31</td>\n      <td>472130</td>\n      <td>7440663949</td>\n    </tr>\n    <tr>\n      <td>...</td>\n      <td>...</td>\n      <td>...</td>\n      <td>...</td>\n      <td>...</td>\n      <td>...</td>\n      <td>...</td>\n    </tr>\n    <tr>\n      <td>29118016</td>\n      <td>29118016</td>\n      <td>6.5133</td>\n      <td>1.1435</td>\n      <td>67</td>\n      <td>399740</td>\n      <td>8671361106</td>\n    </tr>\n    <tr>\n      <td>29118017</td>\n      <td>29118017</td>\n      <td>5.9186</td>\n      <td>4.4134</td>\n      <td>67</td>\n      <td>125480</td>\n      <td>9077887898</td>\n    </tr>\n    <tr>\n      <td>29118018</td>\n      <td>29118018</td>\n      <td>2.9993</td>\n      <td>6.3680</td>\n      <td>67</td>\n      <td>737758</td>\n      <td>2838334300</td>\n    </tr>\n    <tr>\n      <td>29118019</td>\n      <td>29118019</td>\n      <td>4.0637</td>\n      <td>8.0061</td>\n      <td>70</td>\n      <td>764975</td>\n      <td>1007355847</td>\n    </tr>\n    <tr>\n      <td>29118020</td>\n      <td>29118020</td>\n      <td>7.4523</td>\n      <td>2.0871</td>\n      <td>17</td>\n      <td>102842</td>\n      <td>7028698129</td>\n    </tr>\n  </tbody>\n</table>\n<p>29118021 rows × 6 columns</p>\n</div>"
     },
     "execution_count": 3,
     "metadata": {},
     "output_type": "execute_result"
    }
   ],
   "source": [
    "facebook = pd.read_csv(r\"D:\\程序语言\\人工智能教程\\阶段3-人工智能机器学习\\02_机器学习算法day06\\02-代码\\data\\FBlocation\\train.csv\")\n",
    "facebook"
   ],
   "metadata": {
    "collapsed": false,
    "pycharm": {
     "name": "#%%\n"
    }
   }
  },
  {
   "cell_type": "code",
   "execution_count": 4,
   "outputs": [
    {
     "name": "stdout",
     "output_type": "stream",
     "text": [
      "<class 'pandas.core.frame.DataFrame'>\n",
      "RangeIndex: 29118021 entries, 0 to 29118020\n",
      "Data columns (total 6 columns):\n",
      "row_id      int64\n",
      "x           float64\n",
      "y           float64\n",
      "accuracy    int64\n",
      "time        int64\n",
      "place_id    int64\n",
      "dtypes: float64(2), int64(4)\n",
      "memory usage: 1.3 GB\n"
     ]
    }
   ],
   "source": [
    "facebook.info()"
   ],
   "metadata": {
    "collapsed": false,
    "pycharm": {
     "name": "#%%\n"
    }
   }
  },
  {
   "cell_type": "code",
   "execution_count": 5,
   "outputs": [
    {
     "data": {
      "text/plain": "            row_id       x       y  accuracy    time    place_id\n163            163  2.1663  2.3755        84  669737  3869813743\n310            310  2.3695  2.2034         3  234719  2636621520\n658            658  2.3236  2.1768        66  502343  7877745055\n1368          1368  2.2613  2.3392        73  319822  9775192577\n1627          1627  2.3331  2.0011        66  595084  6731326909\n...            ...     ...     ...       ...     ...         ...\n29116142  29116142  2.0804  2.0657       168  217886  1247398579\n29116267  29116267  2.4309  2.4646        33  314360  1951613663\n29116295  29116295  2.1797  2.1707        89   74954  4724115005\n29116475  29116475  2.3924  2.2704        62  206257  2819110495\n29117203  29117203  2.4942  2.2430        11  160483  2634419689\n\n[71664 rows x 6 columns]",
      "text/html": "<div>\n<style scoped>\n    .dataframe tbody tr th:only-of-type {\n        vertical-align: middle;\n    }\n\n    .dataframe tbody tr th {\n        vertical-align: top;\n    }\n\n    .dataframe thead th {\n        text-align: right;\n    }\n</style>\n<table border=\"1\" class=\"dataframe\">\n  <thead>\n    <tr style=\"text-align: right;\">\n      <th></th>\n      <th>row_id</th>\n      <th>x</th>\n      <th>y</th>\n      <th>accuracy</th>\n      <th>time</th>\n      <th>place_id</th>\n    </tr>\n  </thead>\n  <tbody>\n    <tr>\n      <td>163</td>\n      <td>163</td>\n      <td>2.1663</td>\n      <td>2.3755</td>\n      <td>84</td>\n      <td>669737</td>\n      <td>3869813743</td>\n    </tr>\n    <tr>\n      <td>310</td>\n      <td>310</td>\n      <td>2.3695</td>\n      <td>2.2034</td>\n      <td>3</td>\n      <td>234719</td>\n      <td>2636621520</td>\n    </tr>\n    <tr>\n      <td>658</td>\n      <td>658</td>\n      <td>2.3236</td>\n      <td>2.1768</td>\n      <td>66</td>\n      <td>502343</td>\n      <td>7877745055</td>\n    </tr>\n    <tr>\n      <td>1368</td>\n      <td>1368</td>\n      <td>2.2613</td>\n      <td>2.3392</td>\n      <td>73</td>\n      <td>319822</td>\n      <td>9775192577</td>\n    </tr>\n    <tr>\n      <td>1627</td>\n      <td>1627</td>\n      <td>2.3331</td>\n      <td>2.0011</td>\n      <td>66</td>\n      <td>595084</td>\n      <td>6731326909</td>\n    </tr>\n    <tr>\n      <td>...</td>\n      <td>...</td>\n      <td>...</td>\n      <td>...</td>\n      <td>...</td>\n      <td>...</td>\n      <td>...</td>\n    </tr>\n    <tr>\n      <td>29116142</td>\n      <td>29116142</td>\n      <td>2.0804</td>\n      <td>2.0657</td>\n      <td>168</td>\n      <td>217886</td>\n      <td>1247398579</td>\n    </tr>\n    <tr>\n      <td>29116267</td>\n      <td>29116267</td>\n      <td>2.4309</td>\n      <td>2.4646</td>\n      <td>33</td>\n      <td>314360</td>\n      <td>1951613663</td>\n    </tr>\n    <tr>\n      <td>29116295</td>\n      <td>29116295</td>\n      <td>2.1797</td>\n      <td>2.1707</td>\n      <td>89</td>\n      <td>74954</td>\n      <td>4724115005</td>\n    </tr>\n    <tr>\n      <td>29116475</td>\n      <td>29116475</td>\n      <td>2.3924</td>\n      <td>2.2704</td>\n      <td>62</td>\n      <td>206257</td>\n      <td>2819110495</td>\n    </tr>\n    <tr>\n      <td>29117203</td>\n      <td>29117203</td>\n      <td>2.4942</td>\n      <td>2.2430</td>\n      <td>11</td>\n      <td>160483</td>\n      <td>2634419689</td>\n    </tr>\n  </tbody>\n</table>\n<p>71664 rows × 6 columns</p>\n</div>"
     },
     "execution_count": 5,
     "metadata": {},
     "output_type": "execute_result"
    }
   ],
   "source": [
    "#缩小数据范围\n",
    "facebook_data = facebook.query('x>2 & x<2.5 & y>2 & y<2.5')\n",
    "facebook_data"
   ],
   "metadata": {
    "collapsed": false,
    "pycharm": {
     "name": "#%%\n"
    }
   }
  },
  {
   "cell_type": "code",
   "execution_count": 8,
   "outputs": [
    {
     "data": {
      "text/plain": "            row_id    x    y  accuracy  time\nplace_id                                    \n1006234733       1    1    1         1     1\n1008823061       4    4    4         4     4\n1012580558       3    3    3         3     3\n1025585791      21   21   21        21    21\n1026507711     220  220  220       220   220\n...            ...  ...  ...       ...   ...\n9986101718       1    1    1         1     1\n9993141712       1    1    1         1     1\n9995108787      23   23   23        23    23\n9998968845      99   99   99        99    99\n9999851158       3    3    3         3     3\n\n[2524 rows x 5 columns]",
      "text/html": "<div>\n<style scoped>\n    .dataframe tbody tr th:only-of-type {\n        vertical-align: middle;\n    }\n\n    .dataframe tbody tr th {\n        vertical-align: top;\n    }\n\n    .dataframe thead th {\n        text-align: right;\n    }\n</style>\n<table border=\"1\" class=\"dataframe\">\n  <thead>\n    <tr style=\"text-align: right;\">\n      <th></th>\n      <th>row_id</th>\n      <th>x</th>\n      <th>y</th>\n      <th>accuracy</th>\n      <th>time</th>\n    </tr>\n    <tr>\n      <th>place_id</th>\n      <th></th>\n      <th></th>\n      <th></th>\n      <th></th>\n      <th></th>\n    </tr>\n  </thead>\n  <tbody>\n    <tr>\n      <td>1006234733</td>\n      <td>1</td>\n      <td>1</td>\n      <td>1</td>\n      <td>1</td>\n      <td>1</td>\n    </tr>\n    <tr>\n      <td>1008823061</td>\n      <td>4</td>\n      <td>4</td>\n      <td>4</td>\n      <td>4</td>\n      <td>4</td>\n    </tr>\n    <tr>\n      <td>1012580558</td>\n      <td>3</td>\n      <td>3</td>\n      <td>3</td>\n      <td>3</td>\n      <td>3</td>\n    </tr>\n    <tr>\n      <td>1025585791</td>\n      <td>21</td>\n      <td>21</td>\n      <td>21</td>\n      <td>21</td>\n      <td>21</td>\n    </tr>\n    <tr>\n      <td>1026507711</td>\n      <td>220</td>\n      <td>220</td>\n      <td>220</td>\n      <td>220</td>\n      <td>220</td>\n    </tr>\n    <tr>\n      <td>...</td>\n      <td>...</td>\n      <td>...</td>\n      <td>...</td>\n      <td>...</td>\n      <td>...</td>\n    </tr>\n    <tr>\n      <td>9986101718</td>\n      <td>1</td>\n      <td>1</td>\n      <td>1</td>\n      <td>1</td>\n      <td>1</td>\n    </tr>\n    <tr>\n      <td>9993141712</td>\n      <td>1</td>\n      <td>1</td>\n      <td>1</td>\n      <td>1</td>\n      <td>1</td>\n    </tr>\n    <tr>\n      <td>9995108787</td>\n      <td>23</td>\n      <td>23</td>\n      <td>23</td>\n      <td>23</td>\n      <td>23</td>\n    </tr>\n    <tr>\n      <td>9998968845</td>\n      <td>99</td>\n      <td>99</td>\n      <td>99</td>\n      <td>99</td>\n      <td>99</td>\n    </tr>\n    <tr>\n      <td>9999851158</td>\n      <td>3</td>\n      <td>3</td>\n      <td>3</td>\n      <td>3</td>\n      <td>3</td>\n    </tr>\n  </tbody>\n</table>\n<p>2524 rows × 5 columns</p>\n</div>"
     },
     "execution_count": 8,
     "metadata": {},
     "output_type": "execute_result"
    }
   ],
   "source": [
    "facebook_data.groupby('place_id').count()"
   ],
   "metadata": {
    "collapsed": false,
    "pycharm": {
     "name": "#%%\n"
    }
   }
  },
  {
   "cell_type": "code",
   "execution_count": 9,
   "outputs": [
    {
     "name": "stderr",
     "output_type": "stream",
     "text": [
      "C:\\Users\\17634\\Anaconda3\\lib\\site-packages\\ipykernel_launcher.py:4: SettingWithCopyWarning: \n",
      "A value is trying to be set on a copy of a slice from a DataFrame.\n",
      "Try using .loc[row_indexer,col_indexer] = value instead\n",
      "\n",
      "See the caveats in the documentation: http://pandas.pydata.org/pandas-docs/stable/user_guide/indexing.html#returning-a-view-versus-a-copy\n",
      "  after removing the cwd from sys.path.\n",
      "C:\\Users\\17634\\Anaconda3\\lib\\site-packages\\ipykernel_launcher.py:5: SettingWithCopyWarning: \n",
      "A value is trying to be set on a copy of a slice from a DataFrame.\n",
      "Try using .loc[row_indexer,col_indexer] = value instead\n",
      "\n",
      "See the caveats in the documentation: http://pandas.pydata.org/pandas-docs/stable/user_guide/indexing.html#returning-a-view-versus-a-copy\n",
      "  \"\"\"\n",
      "C:\\Users\\17634\\Anaconda3\\lib\\site-packages\\ipykernel_launcher.py:6: SettingWithCopyWarning: \n",
      "A value is trying to be set on a copy of a slice from a DataFrame.\n",
      "Try using .loc[row_indexer,col_indexer] = value instead\n",
      "\n",
      "See the caveats in the documentation: http://pandas.pydata.org/pandas-docs/stable/user_guide/indexing.html#returning-a-view-versus-a-copy\n",
      "  \n"
     ]
    },
    {
     "data": {
      "text/plain": "               x       y  accuracy  day  hour  weekday\n163       2.1663  2.3755        84    8    18        3\n310       2.3695  2.2034         3    3    17        5\n658       2.3236  2.1768        66    6    19        1\n1368      2.2613  2.3392        73    4    16        6\n1627      2.3331  2.0011        66    7    21        2\n...          ...     ...       ...  ...   ...      ...\n29116142  2.0804  2.0657       168    3    12        5\n29116267  2.4309  2.4646        33    4    15        6\n29116295  2.1797  2.1707        89    1    20        3\n29116475  2.3924  2.2704        62    3     9        5\n29117203  2.4942  2.2430        11    2    20        4\n\n[69264 rows x 6 columns]",
      "text/html": "<div>\n<style scoped>\n    .dataframe tbody tr th:only-of-type {\n        vertical-align: middle;\n    }\n\n    .dataframe tbody tr th {\n        vertical-align: top;\n    }\n\n    .dataframe thead th {\n        text-align: right;\n    }\n</style>\n<table border=\"1\" class=\"dataframe\">\n  <thead>\n    <tr style=\"text-align: right;\">\n      <th></th>\n      <th>x</th>\n      <th>y</th>\n      <th>accuracy</th>\n      <th>day</th>\n      <th>hour</th>\n      <th>weekday</th>\n    </tr>\n  </thead>\n  <tbody>\n    <tr>\n      <td>163</td>\n      <td>2.1663</td>\n      <td>2.3755</td>\n      <td>84</td>\n      <td>8</td>\n      <td>18</td>\n      <td>3</td>\n    </tr>\n    <tr>\n      <td>310</td>\n      <td>2.3695</td>\n      <td>2.2034</td>\n      <td>3</td>\n      <td>3</td>\n      <td>17</td>\n      <td>5</td>\n    </tr>\n    <tr>\n      <td>658</td>\n      <td>2.3236</td>\n      <td>2.1768</td>\n      <td>66</td>\n      <td>6</td>\n      <td>19</td>\n      <td>1</td>\n    </tr>\n    <tr>\n      <td>1368</td>\n      <td>2.2613</td>\n      <td>2.3392</td>\n      <td>73</td>\n      <td>4</td>\n      <td>16</td>\n      <td>6</td>\n    </tr>\n    <tr>\n      <td>1627</td>\n      <td>2.3331</td>\n      <td>2.0011</td>\n      <td>66</td>\n      <td>7</td>\n      <td>21</td>\n      <td>2</td>\n    </tr>\n    <tr>\n      <td>...</td>\n      <td>...</td>\n      <td>...</td>\n      <td>...</td>\n      <td>...</td>\n      <td>...</td>\n      <td>...</td>\n    </tr>\n    <tr>\n      <td>29116142</td>\n      <td>2.0804</td>\n      <td>2.0657</td>\n      <td>168</td>\n      <td>3</td>\n      <td>12</td>\n      <td>5</td>\n    </tr>\n    <tr>\n      <td>29116267</td>\n      <td>2.4309</td>\n      <td>2.4646</td>\n      <td>33</td>\n      <td>4</td>\n      <td>15</td>\n      <td>6</td>\n    </tr>\n    <tr>\n      <td>29116295</td>\n      <td>2.1797</td>\n      <td>2.1707</td>\n      <td>89</td>\n      <td>1</td>\n      <td>20</td>\n      <td>3</td>\n    </tr>\n    <tr>\n      <td>29116475</td>\n      <td>2.3924</td>\n      <td>2.2704</td>\n      <td>62</td>\n      <td>3</td>\n      <td>9</td>\n      <td>5</td>\n    </tr>\n    <tr>\n      <td>29117203</td>\n      <td>2.4942</td>\n      <td>2.2430</td>\n      <td>11</td>\n      <td>2</td>\n      <td>20</td>\n      <td>4</td>\n    </tr>\n  </tbody>\n</table>\n<p>69264 rows × 6 columns</p>\n</div>"
     },
     "execution_count": 9,
     "metadata": {},
     "output_type": "execute_result"
    }
   ],
   "source": [
    "time = pd.to_datetime(facebook_data.time, unit='s')\n",
    "# 选择时间特征\n",
    "time = pd.DatetimeIndex(time)\n",
    "facebook_data['day'] = time.day\n",
    "facebook_data['hour'] = time.hour\n",
    "facebook_data['weekday'] = time.weekday\n",
    "# 去掉签到较少的地方\n",
    "place_count = facebook_data.groupby('place_id').count()\n",
    "place_count = place_count[place_count.row_id > 3]\n",
    "facebook_data = facebook_data[facebook_data[\"place_id\"].isin(place_count.index)]\n",
    "# 2.4 确定特征值和目标值\n",
    "x = facebook_data[[\"x\", \"y\", \"accuracy\", \"day\", \"hour\", \"weekday\"]]\n",
    "y = facebook_data[\"place_id\"]\n",
    "x"
   ],
   "metadata": {
    "collapsed": false,
    "pycharm": {
     "name": "#%%\n"
    }
   }
  },
  {
   "cell_type": "code",
   "execution_count": 10,
   "outputs": [
    {
     "data": {
      "text/plain": "163         3869813743\n310         2636621520\n658         7877745055\n1368        9775192577\n1627        6731326909\n               ...    \n29116142    1247398579\n29116267    1951613663\n29116295    4724115005\n29116475    2819110495\n29117203    2634419689\nName: place_id, Length: 69264, dtype: int64"
     },
     "execution_count": 10,
     "metadata": {},
     "output_type": "execute_result"
    }
   ],
   "source": [
    "y\n"
   ],
   "metadata": {
    "collapsed": false,
    "pycharm": {
     "name": "#%%\n"
    }
   }
  },
  {
   "cell_type": "code",
   "execution_count": 11,
   "outputs": [],
   "source": [
    "x_train, x_test, y_train, y_test = train_test_split(x, y, random_state=22)\n",
    "transfer = StandardScaler()\n",
    "x_train = transfer.fit_transform(x_train)\n",
    "x_test = transfer.transform(x_test)"
   ],
   "metadata": {
    "collapsed": false,
    "pycharm": {
     "name": "#%%\n"
    }
   }
  },
  {
   "cell_type": "code",
   "execution_count": 12,
   "outputs": [
    {
     "name": "stderr",
     "output_type": "stream",
     "text": [
      "C:\\Users\\17634\\Anaconda3\\lib\\site-packages\\sklearn\\model_selection\\_split.py:657: Warning: The least populated class in y has only 1 members, which is too few. The minimum number of members in any class cannot be less than n_splits=5.\n",
      "  % (min_groups, self.n_splits)), Warning)\n"
     ]
    },
    {
     "data": {
      "text/plain": "GridSearchCV(cv=5, error_score='raise-deprecating',\n             estimator=KNeighborsClassifier(algorithm='auto', leaf_size=30,\n                                            metric='minkowski',\n                                            metric_params=None, n_jobs=None,\n                                            n_neighbors=5, p=2,\n                                            weights='uniform'),\n             iid='warn', n_jobs=None,\n             param_grid={'n_neighbors': [1, 3, 5, 7, 9]},\n             pre_dispatch='2*n_jobs', refit=True, return_train_score=False,\n             scoring=None, verbose=0)"
     },
     "execution_count": 12,
     "metadata": {},
     "output_type": "execute_result"
    }
   ],
   "source": [
    "estimator = KNeighborsClassifier()\n",
    "param_grid = {\"n_neighbors\": [1,3,5,7,9]}\n",
    "estimator = GridSearchCV(estimator, param_grid=param_grid, cv=5)\n",
    "estimator.fit(x_train, y_train)"
   ],
   "metadata": {
    "collapsed": false,
    "pycharm": {
     "name": "#%%\n"
    }
   }
  },
  {
   "cell_type": "code",
   "execution_count": 13,
   "outputs": [
    {
     "name": "stdout",
     "output_type": "stream",
     "text": [
      "最后预测的准确率为：\n",
      " 0.36515361515361516\n",
      "交叉验证的最好结果：\n",
      " 0.35462385462385465\n",
      "最好的数据模型：\n",
      " KNeighborsClassifier(algorithm='auto', leaf_size=30, metric='minkowski',\n",
      "                     metric_params=None, n_jobs=None, n_neighbors=1, p=2,\n",
      "                     weights='uniform')\n"
     ]
    }
   ],
   "source": [
    "score = estimator.score(x_test, y_test)\n",
    "print(\"最后预测的准确率为：\\n\", score)\n",
    "\n",
    "print(\"交叉验证的最好结果：\\n\", estimator.best_score_)\n",
    "print(\"最好的数据模型：\\n\", estimator.best_estimator_)"
   ],
   "metadata": {
    "collapsed": false,
    "pycharm": {
     "name": "#%%\n"
    }
   }
  },
  {
   "cell_type": "code",
   "execution_count": null,
   "outputs": [],
   "source": [],
   "metadata": {
    "collapsed": false,
    "pycharm": {
     "name": "#%%\n"
    }
   }
  }
 ],
 "metadata": {
  "kernelspec": {
   "display_name": "Python 3",
   "language": "python",
   "name": "python3"
  },
  "language_info": {
   "codemirror_mode": {
    "name": "ipython",
    "version": 2
   },
   "file_extension": ".py",
   "mimetype": "text/x-python",
   "name": "python",
   "nbconvert_exporter": "python",
   "pygments_lexer": "ipython2",
   "version": "2.7.6"
  }
 },
 "nbformat": 4,
 "nbformat_minor": 0
}